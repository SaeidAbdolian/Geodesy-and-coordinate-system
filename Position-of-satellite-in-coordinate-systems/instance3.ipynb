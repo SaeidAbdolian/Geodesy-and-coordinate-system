{
  "nbformat": 4,
  "nbformat_minor": 0,
  "metadata": {
    "colab": {
      "name": "instance3.ipynb",
      "provenance": [],
      "collapsed_sections": [],
      "authorship_tag": "ABX9TyMQySmARREdRQQts6JqRmz2",
      "include_colab_link": true
    },
    "kernelspec": {
      "name": "python3",
      "display_name": "Python 3"
    }
  },
  "cells": [
    {
      "cell_type": "markdown",
      "metadata": {
        "id": "view-in-github",
        "colab_type": "text"
      },
      "source": [
        "<a href=\"https://colab.research.google.com/github/SaeidAbdolian/Geodesy-and-coordinate-system/blob/main/Position-of-satellite-in-coordinate-systems/instance3.ipynb\" target=\"_parent\"><img src=\"https://colab.research.google.com/assets/colab-badge.svg\" alt=\"Open In Colab\"/></a>"
      ]
    },
    {
      "cell_type": "code",
      "metadata": {
        "id": "Ov78W0hC0gbB"
      },
      "source": [
        "from math import pi,sqrt,atan2,atan,sin,cos\r\n",
        "R = pi/180 # Converting Degree to Radian\r\n",
        "D = 180/pi # Converting Radian to Degree"
      ],
      "execution_count": null,
      "outputs": []
    },
    {
      "cell_type": "code",
      "metadata": {
        "id": "hppaVVKJw6PX"
      },
      "source": [
        "a = 705000\r\n",
        "e = 0.0001425\r\n",
        "T = 99\r\n",
        "n = 2*pi/(T/60)\r\n",
        "t1 = 9\r\n",
        "t2 = 11\r\n",
        "M = n*(t2-t1)\r\n",
        "gama = 50.13*R; w = 71.18*R; i = 98.2 * R"
      ],
      "execution_count": null,
      "outputs": []
    },
    {
      "cell_type": "code",
      "metadata": {
        "id": "B5Frpr7M1pqE"
      },
      "source": [
        "E1 = M\r\n",
        "dE = e * sin(E1)\r\n",
        "while dE > 10**-16:\r\n",
        "    E2 = M+e*sin(E1)\r\n",
        "    f = E2-M-e*sin(E2)\r\n",
        "    df = 1-e*cos(E1)\r\n",
        "    E3 = E2-(f/df)\r\n",
        "    dE = E3-E2\r\n",
        "    E1 = E2\r\n",
        "    E2 = E3"
      ],
      "execution_count": null,
      "outputs": []
    },
    {
      "cell_type": "code",
      "metadata": {
        "id": "3An5O1b424hR"
      },
      "source": [
        "E = E2*D\r\n",
        "v = (atan((sqrt(1-e**2)*sin(E*R))/(cos(E*R)-e))*D)+180\r\n",
        "r = a*(1-e*cos(E*R))"
      ],
      "execution_count": null,
      "outputs": []
    },
    {
      "cell_type": "code",
      "metadata": {
        "id": "RnSrMRqZlMbN"
      },
      "source": [
        "Xr = r*cos(v*R)\r\n",
        "Yr = r*sin(v*R)"
      ],
      "execution_count": null,
      "outputs": []
    },
    {
      "cell_type": "code",
      "metadata": {
        "id": "Y7y-ieuQ2-1o"
      },
      "source": [
        "tX = (-sin(w)*cos(gama)-cos(w)*sin(gama)*cos(i))\r\n",
        "tY = (-sin(w)*sin(gama)+cos(w)*cos(gama)*cos(i))\r\n",
        "tZ = (cos(w)*sin(i))\r\n",
        "KX = (cos(w)*cos(gama)-sin(w)*sin(gama)*cos(i))\r\n",
        "KY = (cos(w)*sin(gama)+sin(w)*cos(gama)*cos(i))\r\n",
        "KZ = (sin(w)*sin(i))"
      ],
      "execution_count": null,
      "outputs": []
    },
    {
      "cell_type": "code",
      "metadata": {
        "id": "BHQ8L2OeFgj5"
      },
      "source": [
        "Xi=Xr*(KX)+Yr*(tX)\r\n",
        "Yi=Xr*(KY)+Yr*(tY)\r\n",
        "Zi=Xr*(KZ)+Yr*(tZ)"
      ],
      "execution_count": null,
      "outputs": []
    },
    {
      "cell_type": "code",
      "metadata": {
        "id": "Hb-UCWo4XZ9z"
      },
      "source": [
        "xp = 3364\n",
        "yp = 4456\n",
        "fX = (cos(-xp))\n",
        "fY = 0\n",
        "fZ = (sin(-xp))\n",
        "rX = (sin(-xp)*sin(-yp))\n",
        "rY = (cos(-yp))\n",
        "rZ = (-sin(-yp)*cos(-xp))\n",
        "qX = (-sin(-xp)*cos(-yp))\n",
        "qY = (sin(-yp))\n",
        "qZ = (cos(-yp)*cos(-xp))"
      ],
      "execution_count": null,
      "outputs": []
    },
    {
      "cell_type": "code",
      "metadata": {
        "id": "9GnJq1EvXZ90"
      },
      "source": [
        "Xtr = X*(fX)+Y*(rX)+Z*(qX)\n",
        "Ytr = X*(fY)+Y*(rY)+Z*(qY)\n",
        "Ztr = X*(fZ)+Y*(rZ)+Z*(qZ)"
      ],
      "execution_count": null,
      "outputs": []
    },
    {
      "cell_type": "code",
      "metadata": {
        "colab": {
          "base_uri": "https://localhost:8080/"
        },
        "id": "odWMd9UaaWlM",
        "outputId": "6e7b4bda-3e6a-4476-bb11-76551c67fb72"
      },
      "source": [
        "print('Orbital Coordinate System')\r\n",
        "print('X = ', Xr)\r\n",
        "print('Y = ', Yr)\r\n",
        "\r\n",
        "print('')\r\n",
        "print('Inertial Coordinate System')\r\n",
        "print('X = ', Xi)\r\n",
        "print('Y = ', Yi)\r\n",
        "print('Z = ', Zi)\r\n",
        "\r\n",
        "print('')\r\n",
        "print('Terrestrial Reference coordinate system')\r\n",
        "print('X = ', Xtr)\r\n",
        "print('Y = ', Ytr)\r\n",
        "print('Z = ', Ztr)"
      ],
      "execution_count": null,
      "outputs": [
        {
          "output_type": "stream",
          "text": [
            "Orbital Coordinate System\n",
            "X =  -166014.70368825478\n",
            "Y =  -685150.160205681\n",
            "\n",
            "Inertial Coordinate System as cartesian\n",
            "X =  340003.4571167778\n",
            "Y =  491211.9163846983\n",
            "Z =  -374299.5140537601\n",
            "\n",
            "Terrestrial Reference coordinate system\n",
            "X =  -70845.4401039862\n",
            "Y =  519768.6404391355\n",
            "Z =  -470970.3896245437\n"
          ],
          "name": "stdout"
        }
      ]
    }
  ]
}