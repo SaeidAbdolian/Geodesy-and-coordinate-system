{
  "nbformat": 4,
  "nbformat_minor": 0,
  "metadata": {
    "kernelspec": {
      "display_name": "Python 3",
      "language": "python",
      "name": "python3"
    },
    "language_info": {
      "codemirror_mode": {
        "name": "ipython",
        "version": 3
      },
      "file_extension": ".py",
      "mimetype": "text/x-python",
      "name": "python",
      "nbconvert_exporter": "python",
      "pygments_lexer": "ipython3",
      "version": "3.7.0"
    },
    "colab": {
      "name": "Calculating_Eccentric_anomaly.ipynb",
      "provenance": [],
      "collapsed_sections": [],
      "include_colab_link": true
    }
  },
  "cells": [
    {
      "cell_type": "markdown",
      "metadata": {
        "id": "view-in-github",
        "colab_type": "text"
      },
      "source": [
        "<a href=\"https://colab.research.google.com/github/SaeidAbdolian/Geodesy-and-coordinate-system/blob/main/Calculating-Eccentric-anomaly/Calculating_Eccentric_anomaly.ipynb\" target=\"_parent\"><img src=\"https://colab.research.google.com/assets/colab-badge.svg\" alt=\"Open In Colab\"/></a>"
      ]
    },
    {
      "cell_type": "code",
      "metadata": {
        "id": "f5vxzIbOUDyS"
      },
      "source": [
        "import numpy as np\n",
        "import math"
      ],
      "execution_count": 47,
      "outputs": []
    },
    {
      "cell_type": "code",
      "metadata": {
        "colab": {
          "base_uri": "https://localhost:8080/"
        },
        "id": "6-JywCN29sTF",
        "outputId": "a21cad9d-6a2d-430f-e4e2-378909f85284"
      },
      "source": [
        "M = input('(if you dont enter any number so we enter a number as default) \\nplease enter M as Mean anomaly = ')\r\n",
        "if M=='':\r\n",
        "  M = 65\r\n",
        "  print('M =',M)\r\n",
        "M=int(M)"
      ],
      "execution_count": 48,
      "outputs": [
        {
          "output_type": "stream",
          "text": [
            "(if you dont enter any number so we enter a number as default) \n",
            "please enter M as Mean anomaly = \n",
            "M = 65\n"
          ],
          "name": "stdout"
        }
      ]
    },
    {
      "cell_type": "code",
      "metadata": {
        "colab": {
          "base_uri": "https://localhost:8080/"
        },
        "id": "K04SeqbJk1ov",
        "outputId": "25721824-f133-429e-bbab-4c8b7c5e1309"
      },
      "source": [
        "eps = 0\r\n",
        "e=0.1\r\n",
        "MM,E=0,0\r\n",
        "\r\n",
        "while MM < M:\r\n",
        "  MM = E - np.e*np.sin(E)\r\n",
        "  eps=M-MM\r\n",
        "  E=E+eps\r\n",
        "\r\n",
        "print('Mean anomaly      = ',M)\r\n",
        "print('Eccentric anomaly = ',E)"
      ],
      "execution_count": 54,
      "outputs": [
        {
          "output_type": "stream",
          "text": [
            "Mean anomaly      =  65\n",
            "Eccentric anomaly =  62.40048041431662\n"
          ],
          "name": "stdout"
        }
      ]
    }
  ]
}